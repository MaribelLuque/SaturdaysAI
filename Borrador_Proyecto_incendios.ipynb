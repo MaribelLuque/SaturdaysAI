{
  "nbformat": 4,
  "nbformat_minor": 0,
  "metadata": {
    "colab": {
      "name": "Borrador_Proyecto incendios.ipynb",
      "version": "0.3.2",
      "provenance": [],
      "collapsed_sections": [],
      "toc_visible": true,
      "include_colab_link": true
    },
    "kernelspec": {
      "name": "python3",
      "display_name": "Python 3"
    },
    "accelerator": "GPU"
  },
  "cells": [
    {
      "cell_type": "markdown",
      "metadata": {
        "id": "view-in-github",
        "colab_type": "text"
      },
      "source": [
        "<a href=\"https://colab.research.google.com/github/MaribelLuque/SaturdaysAI/blob/master/Borrador_Proyecto_incendios.ipynb\" target=\"_parent\"><img src=\"https://colab.research.google.com/assets/colab-badge.svg\" alt=\"Open In Colab\"/></a>"
      ]
    },
    {
      "cell_type": "markdown",
      "metadata": {
        "id": "gbkkxcE_FJme",
        "colab_type": "text"
      },
      "source": [
        "# Prediction of forest fires using artificial intelligence"
      ]
    },
    {
      "cell_type": "markdown",
      "metadata": {
        "id": "hb-nlULpIKZn",
        "colab_type": "text"
      },
      "source": [
        "## About"
      ]
    },
    {
      "cell_type": "markdown",
      "metadata": {
        "id": "D5ba2RUyLuES",
        "colab_type": "text"
      },
      "source": [
        "###...Saturdays AI"
      ]
    },
    {
      "cell_type": "markdown",
      "metadata": {
        "id": "SncviP3kIVIP",
        "colab_type": "text"
      },
      "source": [
        "Saturdays.AI is a non-profit in a mission to empower diverse individuals to learn Artificial Intelligence in a collaborative and project-based way, beyond the conventional education path.\n",
        "\n",
        "During the first half of the program we learn the foundations of machine-learning and deep-learning by coding exercises on GPU enabled environments in a collaborative way, assisted by facilitators and mentors.\n",
        "\n",
        "In the second half of the program, we build end2end AI powered prototypes using what we learnt on the \"code2learn\" phase, working with the dataset and model of our choice, we address a real problem with AI.\n",
        "\n",
        "SaturdayAIFellows are committed to creating **positive social impact**, open source projects in exchange for their accessible education."
      ]
    },
    {
      "cell_type": "markdown",
      "metadata": {
        "id": "eLFPl0xEK_vQ",
        "colab_type": "text"
      },
      "source": [
        "###...This project"
      ]
    },
    {
      "cell_type": "markdown",
      "metadata": {
        "id": "Ceb3KtWyMOKL",
        "colab_type": "text"
      },
      "source": [
        "Forest fires has become one of the biggest ecological problems suffered by our forests due to the high frequency and intensity it has acquired in recent years.\n",
        "\n",
        "In Spain there is an annual average of 14,476 fires affecting 108,282.39 hectares of surface area (data from the last ten years 2005-2014). Fuente: Ministerio de Agricultura, Pesca y Alimentación.\n",
        "\n",
        "The key is **prevention and early detection**. In this project we apply artificial intelligence to predict in real time the probability that fire will start, the intensity of the fire if it occurs and the measures, if any, that should be taken."
      ]
    },
    {
      "cell_type": "markdown",
      "metadata": {
        "id": "CL9i1VhqTwmY",
        "colab_type": "text"
      },
      "source": [
        "###...Our datasets"
      ]
    },
    {
      "cell_type": "markdown",
      "metadata": {
        "id": "ttf-p7BQVFIb",
        "colab_type": "text"
      },
      "source": [
        "####*Fire information for resource management system (FIRMS)*\n",
        "Summary elaborated by Rafa Sánchez\n",
        "rafael.sanchez.duran@gmail.com\n",
        "\n",
        "where to find https://firms.modaps.eosdis.nasa.gov/"
      ]
    },
    {
      "cell_type": "markdown",
      "metadata": {
        "id": "FTk7OKoiT1sp",
        "colab_type": "text"
      },
      "source": [
        "\n",
        "\n",
        "NASA logo The Fire Information for Resource Management System (FIRMS) distributes Near Real-Time (NRT) active fire data within 3 hours of satellite observation from both the Moderate Resolution Imaging Spectroradiometer (MODIS) and the Visible Infrared Imaging Radiometer Suite (VIIRS).\n",
        "\n",
        "The active fire / hotspot data can be viewed in FIRMS Fire Map or in NASA’s Worldview , delivered as email alerts or downloaded in the following formats: SHP, KML, TXT, WMS\n",
        "\n",
        "FIRMS is part of NASA’s Land, Atmosphere Near real-time Capability for EOS (LANCE).\n",
        "\n",
        "\n",
        "DATASETS:\n",
        "\n",
        "Active Fire Data  \n",
        "Download active fire products from the Moderate Resolution Imaging Spectroradiometer (MODIS) (MCD14DL) and Visible Infrared Imaging Radiometer Suite (VIIRS) 375 m (VNP14IMGTDL_NRT) for the last 24, 48 hours and 7 days in shapefile, KML, WMS or text file formats. VIIRS data complement MODIS fire detections but the improved spatial resolution of the 375 m data provides a greater response over fires of relatively small areas. Read more about VIIRS...\n",
        "Data older than 7 days can be obtained from the Archive Download Tool. Users intending to perform scientific analysis are advised to download the standard (science quality) data.\n",
        "\n",
        "Please note:\n",
        "\n",
        "MODIS C6 is available from November 2000 (for Terra) and from July 2002 (for Aqua) to the present.\n",
        "VIIRS 375 m data are currently available from 20 January 2012 to the present.\n",
        "\n",
        "TXT https://earthdata.nasa.gov/earth-observation-data/near-real-time/firms/active-fire-data \n",
        "\n",
        "Download text files, in CSV format, for the last 24 and 48 hours, and 7 days.\n",
        "Access daily text files for the last two months via HTTP: https://nrt4.modaps.eosdis.nasa.gov/archive/FIRMS\n",
        "\n",
        "For MODIS C6 data go to: https://nrt4.modaps.eosdis.nasa.gov/archive/FIRMS/c6\n",
        "\n",
        "For VIIRS 375m data go to: https://nrt4.modaps.eosdis.nasa.gov/archive/FIRMS/viirs\n",
        "\n",
        "To keep file sizes to a minimum, the data are provided by region."
      ]
    },
    {
      "cell_type": "markdown",
      "metadata": {
        "id": "slyo8IM9WIpt",
        "colab_type": "text"
      },
      "source": [
        "####*Climate information*"
      ]
    },
    {
      "cell_type": "markdown",
      "metadata": {
        "id": "uDDNlwxQXEzD",
        "colab_type": "text"
      },
      "source": [
        "These data series come from a collection of images from the MODIS satellite (MOD IS/MCD43A4_006_NDVI). We obtain the NDVI (Index of Vegetation in Normarized Differences) and the LST (Land Surface Temperature) values for a specific data range and region of interest using the Google Earth Engine API. To get this collection of images it is necessary to have previously an active GEE account.\n",
        "\n",
        "\n",
        "-------Maribel: Aquí añadiría alguna explicación de qué es el índice NDVI, qué representa y para qué sirve. Además la intensidad del viento y su dirección también son dos datos que si se pueden descargar de esta misma forma serían de vital utilidad para el modelo."
      ]
    },
    {
      "cell_type": "markdown",
      "metadata": {
        "id": "IRU5vT3lYlC6",
        "colab_type": "text"
      },
      "source": [
        "####*Wind speed and direction from wind turbines*"
      ]
    },
    {
      "cell_type": "markdown",
      "metadata": {
        "id": "e8QefGiRaLrx",
        "colab_type": "text"
      },
      "source": [
        "Wind energy in Spain is a renewable source of electricity in which Spain has been a pioneer.  With 23,484 MW of accumulated power, wind energy has been the second source of electricity generation in Spain in 2018. Spain is the fifth country in the world in terms of installed wind power, after China, the United States, Germany and India. \n",
        "In our country wind energy covers 19% of the energy consumed. There are currently 1,123 wind farms installed in 807 municipalities in Spain. \n",
        "\n",
        "This geographic scenario is ideal for the use of wind speed and direction records in each wind turbine as additional data for fire prediction.\n",
        "\n",
        "For this purpose, we will use as a validation dataset for our predictive model, the data collected during the year 2018 from the 21 wind turbines of the PESUR wind farm (Tarifa, Cádiz) provided by Enel Green Power."
      ]
    },
    {
      "cell_type": "markdown",
      "metadata": {
        "id": "KeBvyTOnfFw_",
        "colab_type": "text"
      },
      "source": [
        "##Imports"
      ]
    },
    {
      "cell_type": "code",
      "metadata": {
        "colab_type": "code",
        "id": "vORTYclXIAbM",
        "colab": {}
      },
      "source": [
        "#Instalamos los paquetes necesarios.\n",
        "!pip install fastai==0.7.0\n",
        "!pip install googledrivedownloader\n",
        "!pip install utm"
      ],
      "execution_count": 0,
      "outputs": []
    },
    {
      "cell_type": "code",
      "metadata": {
        "colab_type": "code",
        "id": "a7H4OtvPIAaz",
        "colab": {}
      },
      "source": [
        "#Importamos las librerías\n",
        "from fastai.imports import *\n",
        "from fastai.structured import *\n",
        "\n",
        "from pandas_summary import DataFrameSummary\n",
        "from sklearn.ensemble import RandomForestRegressor, RandomForestClassifier\n",
        "from IPython.display import display\n",
        "\n",
        "from sklearn import metrics\n",
        "\n",
        "import pandas as pd\n",
        "import os\n",
        "import numpy as np\n",
        "import utm\n",
        "import matplotlib.pyplot as plt"
      ],
      "execution_count": 0,
      "outputs": []
    },
    {
      "cell_type": "markdown",
      "metadata": {
        "id": "FANLwgf5gsnm",
        "colab_type": "text"
      },
      "source": [
        "##Read data"
      ]
    },
    {
      "cell_type": "code",
      "metadata": {
        "colab_type": "code",
        "id": "A15Nw0zWIAah",
        "colab": {}
      },
      "source": [
        "#Descargamos desde Google Drive los data sets\n",
        "from google_drive_downloader import GoogleDriveDownloader as gdd\n",
        "#El dataset de PESUR\n",
        "gdd.download_file_from_google_drive(file_id='1RuwvvwU8giKIu3ARMsos5N0_19zrHxEj',\n",
        "                                    dest_path='./data/datos_PESUR_21_2018EDIT.csv',\n",
        "                                    unzip=False)\n",
        "\n",
        "#El data set del histórico de incendios de la NASA\n",
        "!mkdir './data/HISTORICO_NASA/'\n",
        "gdd.download_file_from_google_drive(file_id='1nks6UP3aZXS2GqKjuj-qD2uFXVILTTwa',\n",
        "                                    dest_path='./data/HISTORICO_NASA/fire_archive_V1_56830.csv',\n",
        "                                    unzip=False)"
      ],
      "execution_count": 0,
      "outputs": []
    },
    {
      "cell_type": "code",
      "metadata": {
        "colab_type": "code",
        "id": "zwDCF1RCIAad",
        "colab": {}
      },
      "source": [
        "#Descargamos los datos de los 7 últimos días de incendios de la NASA directamente desde el enlace en la web.\n",
        "!mkdir './data/ACTUAL_NASA/'\n",
        "PATH = 'data/ACTUAL_NASA/'\n",
        "os.chdir (PATH)\n",
        "!wget https://firms.modaps.eosdis.nasa.gov/data/active_fire/viirs/csv/VNP14IMGTDL_NRT_Europe_7d.csv"
      ],
      "execution_count": 0,
      "outputs": []
    },
    {
      "cell_type": "code",
      "metadata": {
        "colab_type": "code",
        "id": "i2Ik0rOVIAZ_",
        "colab": {
          "base_uri": "https://localhost:8080/",
          "height": 230
        },
        "outputId": "b8ebd21a-9f36-409b-cc0a-395f63bf6960"
      },
      "source": [
        "#Creamos el dataframe de los datos de PESUR.\n",
        "#Forzamos a que el campo \"Fecha\" lo importe con el type datetime\n",
        "os.chdir('/content')\n",
        "!pwd \n",
        "df_pesur = pd.read_csv('./data/datos_PESUR_21_2018EDIT.csv', low_memory=False, parse_dates=[\"Fecha\"]) \n",
        "\n",
        "#Vemos el tipo de datos\n",
        "df_pesur.info()"
      ],
      "execution_count": 34,
      "outputs": [
        {
          "output_type": "stream",
          "text": [
            "/content\n",
            "<class 'pandas.core.frame.DataFrame'>\n",
            "RangeIndex: 52222 entries, 0 to 52221\n",
            "Data columns (total 6 columns):\n",
            "Numero_de_serie           52222 non-null int64\n",
            "Fecha                     52222 non-null datetime64[ns]\n",
            "Velocidad_de_viento       52222 non-null float64\n",
            "Posicion_de_la_gondola    52222 non-null int64\n",
            "Latitud                   52222 non-null float64\n",
            "Longitud                  52222 non-null float64\n",
            "dtypes: datetime64[ns](1), float64(3), int64(2)\n",
            "memory usage: 2.4 MB\n"
          ],
          "name": "stdout"
        }
      ]
    },
    {
      "cell_type": "code",
      "metadata": {
        "colab_type": "code",
        "id": "cPqP9-8BIAZ5",
        "colab": {
          "base_uri": "https://localhost:8080/",
          "height": 336
        },
        "outputId": "f722de3a-d9ce-4a69-ead8-81e7dcf2ab9d"
      },
      "source": [
        "#Creamos el dataframe de los datos HISTÓRICOS DE INCENDIOS.\n",
        "#Forzamos a que el campo \"Fecha y hora de adquisición\" lo importe con el type datetime\n",
        "df_hist = pd.read_csv('./data/HISTORICO_NASA/fire_archive_V1_56830.csv', low_memory=False, parse_dates=[\"acq_date_time\"])\n",
        "\n",
        "#Vemos el tipo de datos\n",
        "df_hist.info()"
      ],
      "execution_count": 8,
      "outputs": [
        {
          "output_type": "stream",
          "text": [
            "<class 'pandas.core.frame.DataFrame'>\n",
            "RangeIndex: 105700 entries, 0 to 105699\n",
            "Data columns (total 13 columns):\n",
            "latitude         105700 non-null float64\n",
            "longitude        105700 non-null float64\n",
            "bright_ti4       105700 non-null float64\n",
            "scan             105700 non-null float64\n",
            "track            105700 non-null float64\n",
            "satellite        105700 non-null object\n",
            "instrument       105700 non-null object\n",
            "confidence       105700 non-null object\n",
            "version          105700 non-null int64\n",
            "bright_ti5       105700 non-null float64\n",
            "frp              105700 non-null float64\n",
            "type             105700 non-null int64\n",
            "acq_date_time    105700 non-null datetime64[ns]\n",
            "dtypes: datetime64[ns](1), float64(7), int64(2), object(3)\n",
            "memory usage: 10.5+ MB\n"
          ],
          "name": "stdout"
        }
      ]
    },
    {
      "cell_type": "code",
      "metadata": {
        "colab_type": "code",
        "id": "k4JGYBVnIAZO",
        "colab": {
          "base_uri": "https://localhost:8080/",
          "height": 336
        },
        "outputId": "2b4ccad9-fd26-4782-c40e-122063e8c9e8"
      },
      "source": [
        "#Creamos el dataframe de los datos HISTÓRICOS DE INCENDIOS.\n",
        "#Forzamos a que el campo \"Fecha y hora de adquisición\" lo importe con el type datetime\n",
        "df_actual = pd.read_csv('./data/ACTUAL_NASA/VNP14IMGTDL_NRT_Europe_7d.csv', low_memory=False, parse_dates=[\"acq_date\"]) \n",
        "\n",
        "#Vemos el tipo de datos\n",
        "df_actual.info()"
      ],
      "execution_count": 10,
      "outputs": [
        {
          "output_type": "stream",
          "text": [
            "<class 'pandas.core.frame.DataFrame'>\n",
            "RangeIndex: 8549 entries, 0 to 8548\n",
            "Data columns (total 13 columns):\n",
            "latitude      8549 non-null float64\n",
            "longitude     8549 non-null float64\n",
            "bright_ti4    8549 non-null float64\n",
            "scan          8549 non-null float64\n",
            "track         8549 non-null float64\n",
            "acq_date      8549 non-null datetime64[ns]\n",
            "acq_time      8549 non-null int64\n",
            "satellite     8549 non-null object\n",
            "confidence    8549 non-null object\n",
            "version       8549 non-null object\n",
            "bright_ti5    8549 non-null float64\n",
            "frp           8549 non-null float64\n",
            "daynight      8549 non-null object\n",
            "dtypes: datetime64[ns](1), float64(7), int64(1), object(4)\n",
            "memory usage: 868.3+ KB\n"
          ],
          "name": "stdout"
        }
      ]
    },
    {
      "cell_type": "markdown",
      "metadata": {
        "id": "9p8grFNwfVqV",
        "colab_type": "text"
      },
      "source": [
        "##Look at the data"
      ]
    },
    {
      "cell_type": "code",
      "metadata": {
        "colab_type": "code",
        "id": "8D-1xGZIIAZv",
        "colab": {}
      },
      "source": [
        "#Definimos la función \"display all\" que nos va a servir después para ver los datos. \n",
        "\n",
        "def display_all(df):\n",
        "    with pd.option_context(\"display.max_rows\", 1000, \"display.max_columns\", 1000): \n",
        "        display(df)"
      ],
      "execution_count": 0,
      "outputs": []
    },
    {
      "cell_type": "code",
      "metadata": {
        "colab_type": "code",
        "id": "Fg6MZ0H-IAZq",
        "colab": {}
      },
      "source": [
        "#Vemos los datos del dataframe de PESUR cómo es\n",
        "display_all(df_pesur)"
      ],
      "execution_count": 0,
      "outputs": []
    },
    {
      "cell_type": "code",
      "metadata": {
        "colab_type": "code",
        "id": "CiWryVNaIAZV",
        "colab": {}
      },
      "source": [
        "#Vemos los datos del dataframe del histórico de incendios cómo es\n",
        "display_all(df_hist)"
      ],
      "execution_count": 0,
      "outputs": []
    },
    {
      "cell_type": "code",
      "metadata": {
        "colab_type": "code",
        "id": "C2yGB0IZIAZL",
        "colab": {}
      },
      "source": [
        "#Vemos los datos del dataframe del histórico de incendios cómo es\n",
        "display_all(df_actual)"
      ],
      "execution_count": 0,
      "outputs": []
    },
    {
      "cell_type": "code",
      "metadata": {
        "colab_type": "code",
        "id": "pgZpUqIwIAZI",
        "colab": {
          "base_uri": "https://localhost:8080/",
          "height": 197
        },
        "outputId": "228d590a-ae1f-40ea-afec-f9e0ce3895bb"
      },
      "source": [
        "#Función tail para mostrar las últimas entradas de datos\n",
        "display_all(df_pesur.tail())"
      ],
      "execution_count": 15,
      "outputs": [
        {
          "output_type": "display_data",
          "data": {
            "text/html": [
              "<div>\n",
              "<style scoped>\n",
              "    .dataframe tbody tr th:only-of-type {\n",
              "        vertical-align: middle;\n",
              "    }\n",
              "\n",
              "    .dataframe tbody tr th {\n",
              "        vertical-align: top;\n",
              "    }\n",
              "\n",
              "    .dataframe thead th {\n",
              "        text-align: right;\n",
              "    }\n",
              "</style>\n",
              "<table border=\"1\" class=\"dataframe\">\n",
              "  <thead>\n",
              "    <tr style=\"text-align: right;\">\n",
              "      <th></th>\n",
              "      <th>Numero_de_serie</th>\n",
              "      <th>Fecha</th>\n",
              "      <th>Velocidad_de_viento</th>\n",
              "      <th>Posicion_de_la_gondola</th>\n",
              "      <th>Latitud</th>\n",
              "      <th>Longitud</th>\n",
              "    </tr>\n",
              "  </thead>\n",
              "  <tbody>\n",
              "    <tr>\n",
              "      <th>52217</th>\n",
              "      <td>781978</td>\n",
              "      <td>2018-12-31 22:50:00</td>\n",
              "      <td>13.7</td>\n",
              "      <td>92</td>\n",
              "      <td>36.045217</td>\n",
              "      <td>-5.589723</td>\n",
              "    </tr>\n",
              "    <tr>\n",
              "      <th>52218</th>\n",
              "      <td>781978</td>\n",
              "      <td>2018-12-31 23:00:00</td>\n",
              "      <td>14.3</td>\n",
              "      <td>92</td>\n",
              "      <td>36.045217</td>\n",
              "      <td>-5.589723</td>\n",
              "    </tr>\n",
              "    <tr>\n",
              "      <th>52219</th>\n",
              "      <td>781978</td>\n",
              "      <td>2018-12-31 23:10:00</td>\n",
              "      <td>14.1</td>\n",
              "      <td>94</td>\n",
              "      <td>36.045217</td>\n",
              "      <td>-5.589723</td>\n",
              "    </tr>\n",
              "    <tr>\n",
              "      <th>52220</th>\n",
              "      <td>781978</td>\n",
              "      <td>2018-12-31 23:20:00</td>\n",
              "      <td>14.1</td>\n",
              "      <td>94</td>\n",
              "      <td>36.045217</td>\n",
              "      <td>-5.589723</td>\n",
              "    </tr>\n",
              "    <tr>\n",
              "      <th>52221</th>\n",
              "      <td>781978</td>\n",
              "      <td>2018-12-31 23:30:00</td>\n",
              "      <td>14.0</td>\n",
              "      <td>94</td>\n",
              "      <td>36.045217</td>\n",
              "      <td>-5.589723</td>\n",
              "    </tr>\n",
              "  </tbody>\n",
              "</table>\n",
              "</div>"
            ],
            "text/plain": [
              "       Numero_de_serie               Fecha  Velocidad_de_viento  \\\n",
              "52217           781978 2018-12-31 22:50:00                 13.7   \n",
              "52218           781978 2018-12-31 23:00:00                 14.3   \n",
              "52219           781978 2018-12-31 23:10:00                 14.1   \n",
              "52220           781978 2018-12-31 23:20:00                 14.1   \n",
              "52221           781978 2018-12-31 23:30:00                 14.0   \n",
              "\n",
              "       Posicion_de_la_gondola    Latitud  Longitud  \n",
              "52217                      92  36.045217 -5.589723  \n",
              "52218                      92  36.045217 -5.589723  \n",
              "52219                      94  36.045217 -5.589723  \n",
              "52220                      94  36.045217 -5.589723  \n",
              "52221                      94  36.045217 -5.589723  "
            ]
          },
          "metadata": {
            "tags": []
          }
        }
      ]
    },
    {
      "cell_type": "code",
      "metadata": {
        "colab_type": "code",
        "id": "XlDMhxJGIAZF",
        "colab": {
          "base_uri": "https://localhost:8080/",
          "height": 281
        },
        "outputId": "73143b1d-506c-44c7-c70d-7824ded77354"
      },
      "source": [
        "#Función tail para mostrar las últimas entradas de datos\n",
        "display_all(df_hist.tail())"
      ],
      "execution_count": 16,
      "outputs": [
        {
          "output_type": "display_data",
          "data": {
            "text/html": [
              "<div>\n",
              "<style scoped>\n",
              "    .dataframe tbody tr th:only-of-type {\n",
              "        vertical-align: middle;\n",
              "    }\n",
              "\n",
              "    .dataframe tbody tr th {\n",
              "        vertical-align: top;\n",
              "    }\n",
              "\n",
              "    .dataframe thead th {\n",
              "        text-align: right;\n",
              "    }\n",
              "</style>\n",
              "<table border=\"1\" class=\"dataframe\">\n",
              "  <thead>\n",
              "    <tr style=\"text-align: right;\">\n",
              "      <th></th>\n",
              "      <th>latitude</th>\n",
              "      <th>longitude</th>\n",
              "      <th>bright_ti4</th>\n",
              "      <th>scan</th>\n",
              "      <th>track</th>\n",
              "      <th>satellite</th>\n",
              "      <th>instrument</th>\n",
              "      <th>confidence</th>\n",
              "      <th>version</th>\n",
              "      <th>bright_ti5</th>\n",
              "      <th>frp</th>\n",
              "      <th>type</th>\n",
              "      <th>acq_date_time</th>\n",
              "    </tr>\n",
              "  </thead>\n",
              "  <tbody>\n",
              "    <tr>\n",
              "      <th>105695</th>\n",
              "      <td>43.53809</td>\n",
              "      <td>-5.83013</td>\n",
              "      <td>342.6</td>\n",
              "      <td>0.39</td>\n",
              "      <td>0.36</td>\n",
              "      <td>N</td>\n",
              "      <td>VIIRS</td>\n",
              "      <td>n</td>\n",
              "      <td>1</td>\n",
              "      <td>286.8</td>\n",
              "      <td>11.0</td>\n",
              "      <td>2</td>\n",
              "      <td>2018-12-31 13:10:00</td>\n",
              "    </tr>\n",
              "    <tr>\n",
              "      <th>105696</th>\n",
              "      <td>43.12484</td>\n",
              "      <td>-6.38784</td>\n",
              "      <td>334.7</td>\n",
              "      <td>0.40</td>\n",
              "      <td>0.37</td>\n",
              "      <td>N</td>\n",
              "      <td>VIIRS</td>\n",
              "      <td>n</td>\n",
              "      <td>1</td>\n",
              "      <td>290.0</td>\n",
              "      <td>4.7</td>\n",
              "      <td>0</td>\n",
              "      <td>2018-12-31 13:10:00</td>\n",
              "    </tr>\n",
              "    <tr>\n",
              "      <th>105697</th>\n",
              "      <td>42.32085</td>\n",
              "      <td>-1.78886</td>\n",
              "      <td>325.5</td>\n",
              "      <td>0.41</td>\n",
              "      <td>0.37</td>\n",
              "      <td>N</td>\n",
              "      <td>VIIRS</td>\n",
              "      <td>n</td>\n",
              "      <td>1</td>\n",
              "      <td>285.4</td>\n",
              "      <td>1.8</td>\n",
              "      <td>0</td>\n",
              "      <td>2018-12-31 13:10:00</td>\n",
              "    </tr>\n",
              "    <tr>\n",
              "      <th>105698</th>\n",
              "      <td>43.52415</td>\n",
              "      <td>-5.73295</td>\n",
              "      <td>336.9</td>\n",
              "      <td>0.39</td>\n",
              "      <td>0.36</td>\n",
              "      <td>N</td>\n",
              "      <td>VIIRS</td>\n",
              "      <td>n</td>\n",
              "      <td>1</td>\n",
              "      <td>287.6</td>\n",
              "      <td>3.8</td>\n",
              "      <td>2</td>\n",
              "      <td>2018-12-31 13:10:00</td>\n",
              "    </tr>\n",
              "    <tr>\n",
              "      <th>105699</th>\n",
              "      <td>43.12572</td>\n",
              "      <td>-6.38267</td>\n",
              "      <td>328.6</td>\n",
              "      <td>0.40</td>\n",
              "      <td>0.37</td>\n",
              "      <td>N</td>\n",
              "      <td>VIIRS</td>\n",
              "      <td>n</td>\n",
              "      <td>1</td>\n",
              "      <td>288.0</td>\n",
              "      <td>4.3</td>\n",
              "      <td>0</td>\n",
              "      <td>2018-12-31 13:10:00</td>\n",
              "    </tr>\n",
              "  </tbody>\n",
              "</table>\n",
              "</div>"
            ],
            "text/plain": [
              "        latitude  longitude  bright_ti4  scan  track satellite instrument  \\\n",
              "105695  43.53809   -5.83013       342.6  0.39   0.36         N      VIIRS   \n",
              "105696  43.12484   -6.38784       334.7  0.40   0.37         N      VIIRS   \n",
              "105697  42.32085   -1.78886       325.5  0.41   0.37         N      VIIRS   \n",
              "105698  43.52415   -5.73295       336.9  0.39   0.36         N      VIIRS   \n",
              "105699  43.12572   -6.38267       328.6  0.40   0.37         N      VIIRS   \n",
              "\n",
              "       confidence  version  bright_ti5   frp  type       acq_date_time  \n",
              "105695          n        1       286.8  11.0     2 2018-12-31 13:10:00  \n",
              "105696          n        1       290.0   4.7     0 2018-12-31 13:10:00  \n",
              "105697          n        1       285.4   1.8     0 2018-12-31 13:10:00  \n",
              "105698          n        1       287.6   3.8     2 2018-12-31 13:10:00  \n",
              "105699          n        1       288.0   4.3     0 2018-12-31 13:10:00  "
            ]
          },
          "metadata": {
            "tags": []
          }
        }
      ]
    },
    {
      "cell_type": "code",
      "metadata": {
        "colab_type": "code",
        "id": "fWou4ZEHIAY7",
        "colab": {
          "base_uri": "https://localhost:8080/",
          "height": 454
        },
        "outputId": "445b4dcc-e901-4c97-e251-decd261b4cc2"
      },
      "source": [
        "#Vemos alguna información estadística de cómo son nuestros datos\n",
        "display_all(df_hist.describe(include='all').T)"
      ],
      "execution_count": 17,
      "outputs": [
        {
          "output_type": "display_data",
          "data": {
            "text/html": [
              "<div>\n",
              "<style scoped>\n",
              "    .dataframe tbody tr th:only-of-type {\n",
              "        vertical-align: middle;\n",
              "    }\n",
              "\n",
              "    .dataframe tbody tr th {\n",
              "        vertical-align: top;\n",
              "    }\n",
              "\n",
              "    .dataframe thead th {\n",
              "        text-align: right;\n",
              "    }\n",
              "</style>\n",
              "<table border=\"1\" class=\"dataframe\">\n",
              "  <thead>\n",
              "    <tr style=\"text-align: right;\">\n",
              "      <th></th>\n",
              "      <th>count</th>\n",
              "      <th>unique</th>\n",
              "      <th>top</th>\n",
              "      <th>freq</th>\n",
              "      <th>first</th>\n",
              "      <th>last</th>\n",
              "      <th>mean</th>\n",
              "      <th>std</th>\n",
              "      <th>min</th>\n",
              "      <th>25%</th>\n",
              "      <th>50%</th>\n",
              "      <th>75%</th>\n",
              "      <th>max</th>\n",
              "    </tr>\n",
              "  </thead>\n",
              "  <tbody>\n",
              "    <tr>\n",
              "      <th>latitude</th>\n",
              "      <td>105700</td>\n",
              "      <td>NaN</td>\n",
              "      <td>NaN</td>\n",
              "      <td>NaN</td>\n",
              "      <td>NaN</td>\n",
              "      <td>NaN</td>\n",
              "      <td>40.6353</td>\n",
              "      <td>2.76681</td>\n",
              "      <td>27.7241</td>\n",
              "      <td>38.8276</td>\n",
              "      <td>41.4529</td>\n",
              "      <td>42.9811</td>\n",
              "      <td>43.7095</td>\n",
              "    </tr>\n",
              "    <tr>\n",
              "      <th>longitude</th>\n",
              "      <td>105700</td>\n",
              "      <td>NaN</td>\n",
              "      <td>NaN</td>\n",
              "      <td>NaN</td>\n",
              "      <td>NaN</td>\n",
              "      <td>NaN</td>\n",
              "      <td>-4.38697</td>\n",
              "      <td>3.26609</td>\n",
              "      <td>-18.1504</td>\n",
              "      <td>-6.23711</td>\n",
              "      <td>-5.3497</td>\n",
              "      <td>-1.90458</td>\n",
              "      <td>4.26278</td>\n",
              "    </tr>\n",
              "    <tr>\n",
              "      <th>bright_ti4</th>\n",
              "      <td>105700</td>\n",
              "      <td>NaN</td>\n",
              "      <td>NaN</td>\n",
              "      <td>NaN</td>\n",
              "      <td>NaN</td>\n",
              "      <td>NaN</td>\n",
              "      <td>324.197</td>\n",
              "      <td>20.8</td>\n",
              "      <td>208</td>\n",
              "      <td>304.1</td>\n",
              "      <td>326.7</td>\n",
              "      <td>339.5</td>\n",
              "      <td>367</td>\n",
              "    </tr>\n",
              "    <tr>\n",
              "      <th>scan</th>\n",
              "      <td>105700</td>\n",
              "      <td>NaN</td>\n",
              "      <td>NaN</td>\n",
              "      <td>NaN</td>\n",
              "      <td>NaN</td>\n",
              "      <td>NaN</td>\n",
              "      <td>0.459929</td>\n",
              "      <td>0.0905928</td>\n",
              "      <td>0.32</td>\n",
              "      <td>0.39</td>\n",
              "      <td>0.43</td>\n",
              "      <td>0.51</td>\n",
              "      <td>0.8</td>\n",
              "    </tr>\n",
              "    <tr>\n",
              "      <th>track</th>\n",
              "      <td>105700</td>\n",
              "      <td>NaN</td>\n",
              "      <td>NaN</td>\n",
              "      <td>NaN</td>\n",
              "      <td>NaN</td>\n",
              "      <td>NaN</td>\n",
              "      <td>0.485535</td>\n",
              "      <td>0.119283</td>\n",
              "      <td>0.36</td>\n",
              "      <td>0.38</td>\n",
              "      <td>0.45</td>\n",
              "      <td>0.57</td>\n",
              "      <td>0.78</td>\n",
              "    </tr>\n",
              "    <tr>\n",
              "      <th>satellite</th>\n",
              "      <td>105700</td>\n",
              "      <td>1</td>\n",
              "      <td>N</td>\n",
              "      <td>105700</td>\n",
              "      <td>NaN</td>\n",
              "      <td>NaN</td>\n",
              "      <td>NaN</td>\n",
              "      <td>NaN</td>\n",
              "      <td>NaN</td>\n",
              "      <td>NaN</td>\n",
              "      <td>NaN</td>\n",
              "      <td>NaN</td>\n",
              "      <td>NaN</td>\n",
              "    </tr>\n",
              "    <tr>\n",
              "      <th>instrument</th>\n",
              "      <td>105700</td>\n",
              "      <td>1</td>\n",
              "      <td>VIIRS</td>\n",
              "      <td>105700</td>\n",
              "      <td>NaN</td>\n",
              "      <td>NaN</td>\n",
              "      <td>NaN</td>\n",
              "      <td>NaN</td>\n",
              "      <td>NaN</td>\n",
              "      <td>NaN</td>\n",
              "      <td>NaN</td>\n",
              "      <td>NaN</td>\n",
              "      <td>NaN</td>\n",
              "    </tr>\n",
              "    <tr>\n",
              "      <th>confidence</th>\n",
              "      <td>105700</td>\n",
              "      <td>3</td>\n",
              "      <td>n</td>\n",
              "      <td>95945</td>\n",
              "      <td>NaN</td>\n",
              "      <td>NaN</td>\n",
              "      <td>NaN</td>\n",
              "      <td>NaN</td>\n",
              "      <td>NaN</td>\n",
              "      <td>NaN</td>\n",
              "      <td>NaN</td>\n",
              "      <td>NaN</td>\n",
              "      <td>NaN</td>\n",
              "    </tr>\n",
              "    <tr>\n",
              "      <th>version</th>\n",
              "      <td>105700</td>\n",
              "      <td>NaN</td>\n",
              "      <td>NaN</td>\n",
              "      <td>NaN</td>\n",
              "      <td>NaN</td>\n",
              "      <td>NaN</td>\n",
              "      <td>1</td>\n",
              "      <td>0</td>\n",
              "      <td>1</td>\n",
              "      <td>1</td>\n",
              "      <td>1</td>\n",
              "      <td>1</td>\n",
              "      <td>1</td>\n",
              "    </tr>\n",
              "    <tr>\n",
              "      <th>bright_ti5</th>\n",
              "      <td>105700</td>\n",
              "      <td>NaN</td>\n",
              "      <td>NaN</td>\n",
              "      <td>NaN</td>\n",
              "      <td>NaN</td>\n",
              "      <td>NaN</td>\n",
              "      <td>290.809</td>\n",
              "      <td>12.5124</td>\n",
              "      <td>232.8</td>\n",
              "      <td>283.1</td>\n",
              "      <td>289.1</td>\n",
              "      <td>297.2</td>\n",
              "      <td>380</td>\n",
              "    </tr>\n",
              "    <tr>\n",
              "      <th>frp</th>\n",
              "      <td>105700</td>\n",
              "      <td>NaN</td>\n",
              "      <td>NaN</td>\n",
              "      <td>NaN</td>\n",
              "      <td>NaN</td>\n",
              "      <td>NaN</td>\n",
              "      <td>9.44804</td>\n",
              "      <td>28.2731</td>\n",
              "      <td>0</td>\n",
              "      <td>1.2</td>\n",
              "      <td>2.8</td>\n",
              "      <td>6.7</td>\n",
              "      <td>916.4</td>\n",
              "    </tr>\n",
              "    <tr>\n",
              "      <th>type</th>\n",
              "      <td>105700</td>\n",
              "      <td>NaN</td>\n",
              "      <td>NaN</td>\n",
              "      <td>NaN</td>\n",
              "      <td>NaN</td>\n",
              "      <td>NaN</td>\n",
              "      <td>0.691457</td>\n",
              "      <td>0.995978</td>\n",
              "      <td>0</td>\n",
              "      <td>0</td>\n",
              "      <td>0</td>\n",
              "      <td>2</td>\n",
              "      <td>3</td>\n",
              "    </tr>\n",
              "    <tr>\n",
              "      <th>acq_date_time</th>\n",
              "      <td>105700</td>\n",
              "      <td>15123</td>\n",
              "      <td>2012-08-31 01:14:00</td>\n",
              "      <td>466</td>\n",
              "      <td>2012-01-02 00:50:00</td>\n",
              "      <td>2018-12-31 13:10:00</td>\n",
              "      <td>NaN</td>\n",
              "      <td>NaN</td>\n",
              "      <td>NaN</td>\n",
              "      <td>NaN</td>\n",
              "      <td>NaN</td>\n",
              "      <td>NaN</td>\n",
              "      <td>NaN</td>\n",
              "    </tr>\n",
              "  </tbody>\n",
              "</table>\n",
              "</div>"
            ],
            "text/plain": [
              "                count unique                  top    freq  \\\n",
              "latitude       105700    NaN                  NaN     NaN   \n",
              "longitude      105700    NaN                  NaN     NaN   \n",
              "bright_ti4     105700    NaN                  NaN     NaN   \n",
              "scan           105700    NaN                  NaN     NaN   \n",
              "track          105700    NaN                  NaN     NaN   \n",
              "satellite      105700      1                    N  105700   \n",
              "instrument     105700      1                VIIRS  105700   \n",
              "confidence     105700      3                    n   95945   \n",
              "version        105700    NaN                  NaN     NaN   \n",
              "bright_ti5     105700    NaN                  NaN     NaN   \n",
              "frp            105700    NaN                  NaN     NaN   \n",
              "type           105700    NaN                  NaN     NaN   \n",
              "acq_date_time  105700  15123  2012-08-31 01:14:00     466   \n",
              "\n",
              "                             first                 last      mean        std  \\\n",
              "latitude                       NaN                  NaN   40.6353    2.76681   \n",
              "longitude                      NaN                  NaN  -4.38697    3.26609   \n",
              "bright_ti4                     NaN                  NaN   324.197       20.8   \n",
              "scan                           NaN                  NaN  0.459929  0.0905928   \n",
              "track                          NaN                  NaN  0.485535   0.119283   \n",
              "satellite                      NaN                  NaN       NaN        NaN   \n",
              "instrument                     NaN                  NaN       NaN        NaN   \n",
              "confidence                     NaN                  NaN       NaN        NaN   \n",
              "version                        NaN                  NaN         1          0   \n",
              "bright_ti5                     NaN                  NaN   290.809    12.5124   \n",
              "frp                            NaN                  NaN   9.44804    28.2731   \n",
              "type                           NaN                  NaN  0.691457   0.995978   \n",
              "acq_date_time  2012-01-02 00:50:00  2018-12-31 13:10:00       NaN        NaN   \n",
              "\n",
              "                   min      25%      50%      75%      max  \n",
              "latitude       27.7241  38.8276  41.4529  42.9811  43.7095  \n",
              "longitude     -18.1504 -6.23711  -5.3497 -1.90458  4.26278  \n",
              "bright_ti4         208    304.1    326.7    339.5      367  \n",
              "scan              0.32     0.39     0.43     0.51      0.8  \n",
              "track             0.36     0.38     0.45     0.57     0.78  \n",
              "satellite          NaN      NaN      NaN      NaN      NaN  \n",
              "instrument         NaN      NaN      NaN      NaN      NaN  \n",
              "confidence         NaN      NaN      NaN      NaN      NaN  \n",
              "version              1        1        1        1        1  \n",
              "bright_ti5       232.8    283.1    289.1    297.2      380  \n",
              "frp                  0      1.2      2.8      6.7    916.4  \n",
              "type                 0        0        0        2        3  \n",
              "acq_date_time      NaN      NaN      NaN      NaN      NaN  "
            ]
          },
          "metadata": {
            "tags": []
          }
        }
      ]
    },
    {
      "cell_type": "markdown",
      "metadata": {
        "id": "Ae1HUer1pg47",
        "colab_type": "text"
      },
      "source": [
        "---------------Maribel: Aquí tenemos que incluir la parte de las gráficas que está preparando Rafa."
      ]
    },
    {
      "cell_type": "markdown",
      "metadata": {
        "id": "1BkgCk2Sh0W4",
        "colab_type": "text"
      },
      "source": [
        "##Pre-processing"
      ]
    },
    {
      "cell_type": "code",
      "metadata": {
        "id": "4-gTL1gRjJ63",
        "colab_type": "code",
        "colab": {
          "base_uri": "https://localhost:8080/",
          "height": 52
        },
        "outputId": "7ed3f8ad-dfd4-4083-83d0-0fb9631a0c3a"
      },
      "source": [
        "#Bucle para redondear la fecha y hora de adquisición de los datos de histórico de incendios a los 10 minutos más próximos. \n",
        "print(\"Comienzo\")\n",
        "acq_date_time_redon = []\n",
        "for i in range(df_hist.shape[0]):\n",
        "    tm=df_hist.acq_date_time[i]\n",
        "    discard = datetime.timedelta(minutes=tm.minute % 10, \n",
        "          seconds=tm.second, \n",
        "          microseconds=tm.microsecond) \n",
        "    tm -= discard \n",
        "    if discard >= datetime.timedelta(minutes=5): \n",
        "        tm += datetime.timedelta(minutes=10)\n",
        "    acq_date_time_redon.append(tm)\n",
        "print(\"Final\")"
      ],
      "execution_count": 18,
      "outputs": [
        {
          "output_type": "stream",
          "text": [
            "Comienzo\n",
            "Final\n"
          ],
          "name": "stdout"
        }
      ]
    },
    {
      "cell_type": "code",
      "metadata": {
        "id": "tukbuiVyjdNj",
        "colab_type": "code",
        "colab": {}
      },
      "source": [
        "#Convierto la lista anterior a un dataframe y lo anexo como columna adicional al dataframe de historico de incendios\n",
        "df=pd.DataFrame(acq_date_time_redon, columns=['acq_date_time_redon'])\n",
        "df_hist = df_hist.join(df)"
      ],
      "execution_count": 0,
      "outputs": []
    },
    {
      "cell_type": "code",
      "metadata": {
        "id": "2iZGClHmkJaa",
        "colab_type": "code",
        "colab": {
          "base_uri": "https://localhost:8080/",
          "height": 354
        },
        "outputId": "3a0fa3b5-c271-4762-e837-2a088595d192"
      },
      "source": [
        "#Vemos que se ha creado correctamente esta nueva columna\n",
        "df_hist.info()"
      ],
      "execution_count": 20,
      "outputs": [
        {
          "output_type": "stream",
          "text": [
            "<class 'pandas.core.frame.DataFrame'>\n",
            "RangeIndex: 105700 entries, 0 to 105699\n",
            "Data columns (total 14 columns):\n",
            "latitude               105700 non-null float64\n",
            "longitude              105700 non-null float64\n",
            "bright_ti4             105700 non-null float64\n",
            "scan                   105700 non-null float64\n",
            "track                  105700 non-null float64\n",
            "satellite              105700 non-null object\n",
            "instrument             105700 non-null object\n",
            "confidence             105700 non-null object\n",
            "version                105700 non-null int64\n",
            "bright_ti5             105700 non-null float64\n",
            "frp                    105700 non-null float64\n",
            "type                   105700 non-null int64\n",
            "acq_date_time          105700 non-null datetime64[ns]\n",
            "acq_date_time_redon    105700 non-null datetime64[ns]\n",
            "dtypes: datetime64[ns](2), float64(7), int64(2), object(3)\n",
            "memory usage: 11.3+ MB\n"
          ],
          "name": "stdout"
        }
      ]
    },
    {
      "cell_type": "code",
      "metadata": {
        "id": "pK2NYKNdkchk",
        "colab_type": "code",
        "colab": {}
      },
      "source": [
        "#Vemos los datos para comprobar que el redondeo se ha hecho correctamente\n",
        "display_all(df_hist)"
      ],
      "execution_count": 0,
      "outputs": []
    },
    {
      "cell_type": "code",
      "metadata": {
        "id": "xZxvuWL8kmbg",
        "colab_type": "code",
        "colab": {}
      },
      "source": [
        "#Redondeamos los campos de latitud y longitud en los dos dataframes para poder hacerlos coincidir\n",
        "df_hist=df_hist.round({'latitude': 0, 'longitude': 0})\n",
        "df_pesur=df_pesur.round({'Latitud': 0, 'Longitud': 0})"
      ],
      "execution_count": 0,
      "outputs": []
    },
    {
      "cell_type": "code",
      "metadata": {
        "id": "RCbouZ7JlRGM",
        "colab_type": "code",
        "colab": {
          "base_uri": "https://localhost:8080/",
          "height": 197
        },
        "outputId": "9967b9e4-1aa6-4cbd-a1a1-ee1e7969b4bb"
      },
      "source": [
        "#Vemos los primeros datos\n",
        "df_pesur.head()"
      ],
      "execution_count": 23,
      "outputs": [
        {
          "output_type": "execute_result",
          "data": {
            "text/html": [
              "<div>\n",
              "<style scoped>\n",
              "    .dataframe tbody tr th:only-of-type {\n",
              "        vertical-align: middle;\n",
              "    }\n",
              "\n",
              "    .dataframe tbody tr th {\n",
              "        vertical-align: top;\n",
              "    }\n",
              "\n",
              "    .dataframe thead th {\n",
              "        text-align: right;\n",
              "    }\n",
              "</style>\n",
              "<table border=\"1\" class=\"dataframe\">\n",
              "  <thead>\n",
              "    <tr style=\"text-align: right;\">\n",
              "      <th></th>\n",
              "      <th>Numero_de_serie</th>\n",
              "      <th>Fecha</th>\n",
              "      <th>Velocidad_de_viento</th>\n",
              "      <th>Posicion_de_la_gondola</th>\n",
              "      <th>Latitud</th>\n",
              "      <th>Longitud</th>\n",
              "    </tr>\n",
              "  </thead>\n",
              "  <tbody>\n",
              "    <tr>\n",
              "      <th>0</th>\n",
              "      <td>781978</td>\n",
              "      <td>2018-01-01 00:00:00</td>\n",
              "      <td>7.0</td>\n",
              "      <td>303</td>\n",
              "      <td>36.0</td>\n",
              "      <td>-6.0</td>\n",
              "    </tr>\n",
              "    <tr>\n",
              "      <th>1</th>\n",
              "      <td>781978</td>\n",
              "      <td>2018-01-01 00:10:00</td>\n",
              "      <td>9.3</td>\n",
              "      <td>307</td>\n",
              "      <td>36.0</td>\n",
              "      <td>-6.0</td>\n",
              "    </tr>\n",
              "    <tr>\n",
              "      <th>2</th>\n",
              "      <td>781978</td>\n",
              "      <td>2018-01-01 00:20:00</td>\n",
              "      <td>8.5</td>\n",
              "      <td>309</td>\n",
              "      <td>36.0</td>\n",
              "      <td>-6.0</td>\n",
              "    </tr>\n",
              "    <tr>\n",
              "      <th>3</th>\n",
              "      <td>781978</td>\n",
              "      <td>2018-01-01 00:30:00</td>\n",
              "      <td>7.9</td>\n",
              "      <td>318</td>\n",
              "      <td>36.0</td>\n",
              "      <td>-6.0</td>\n",
              "    </tr>\n",
              "    <tr>\n",
              "      <th>4</th>\n",
              "      <td>781978</td>\n",
              "      <td>2018-01-01 00:40:00</td>\n",
              "      <td>7.0</td>\n",
              "      <td>318</td>\n",
              "      <td>36.0</td>\n",
              "      <td>-6.0</td>\n",
              "    </tr>\n",
              "  </tbody>\n",
              "</table>\n",
              "</div>"
            ],
            "text/plain": [
              "   Numero_de_serie               Fecha  ...  Latitud  Longitud\n",
              "0           781978 2018-01-01 00:00:00  ...     36.0      -6.0\n",
              "1           781978 2018-01-01 00:10:00  ...     36.0      -6.0\n",
              "2           781978 2018-01-01 00:20:00  ...     36.0      -6.0\n",
              "3           781978 2018-01-01 00:30:00  ...     36.0      -6.0\n",
              "4           781978 2018-01-01 00:40:00  ...     36.0      -6.0\n",
              "\n",
              "[5 rows x 6 columns]"
            ]
          },
          "metadata": {
            "tags": []
          },
          "execution_count": 23
        }
      ]
    },
    {
      "cell_type": "code",
      "metadata": {
        "id": "4OzhQCKmlZN_",
        "colab_type": "code",
        "colab": {
          "base_uri": "https://localhost:8080/",
          "height": 301
        },
        "outputId": "f1004eaa-84c2-49cd-d6f6-e57e527224b4"
      },
      "source": [
        "df_hist.head()"
      ],
      "execution_count": 24,
      "outputs": [
        {
          "output_type": "execute_result",
          "data": {
            "text/html": [
              "<div>\n",
              "<style scoped>\n",
              "    .dataframe tbody tr th:only-of-type {\n",
              "        vertical-align: middle;\n",
              "    }\n",
              "\n",
              "    .dataframe tbody tr th {\n",
              "        vertical-align: top;\n",
              "    }\n",
              "\n",
              "    .dataframe thead th {\n",
              "        text-align: right;\n",
              "    }\n",
              "</style>\n",
              "<table border=\"1\" class=\"dataframe\">\n",
              "  <thead>\n",
              "    <tr style=\"text-align: right;\">\n",
              "      <th></th>\n",
              "      <th>latitude</th>\n",
              "      <th>longitude</th>\n",
              "      <th>bright_ti4</th>\n",
              "      <th>scan</th>\n",
              "      <th>track</th>\n",
              "      <th>satellite</th>\n",
              "      <th>instrument</th>\n",
              "      <th>confidence</th>\n",
              "      <th>version</th>\n",
              "      <th>bright_ti5</th>\n",
              "      <th>frp</th>\n",
              "      <th>type</th>\n",
              "      <th>acq_date_time</th>\n",
              "      <th>acq_date_time_redon</th>\n",
              "    </tr>\n",
              "  </thead>\n",
              "  <tbody>\n",
              "    <tr>\n",
              "      <th>0</th>\n",
              "      <td>38.0</td>\n",
              "      <td>-5.0</td>\n",
              "      <td>345.0</td>\n",
              "      <td>0.34</td>\n",
              "      <td>0.56</td>\n",
              "      <td>N</td>\n",
              "      <td>VIIRS</td>\n",
              "      <td>n</td>\n",
              "      <td>1</td>\n",
              "      <td>275.8</td>\n",
              "      <td>4.7</td>\n",
              "      <td>0</td>\n",
              "      <td>2012-01-20 02:55:00</td>\n",
              "      <td>2012-01-20 03:00:00</td>\n",
              "    </tr>\n",
              "    <tr>\n",
              "      <th>1</th>\n",
              "      <td>43.0</td>\n",
              "      <td>-0.0</td>\n",
              "      <td>335.0</td>\n",
              "      <td>0.44</td>\n",
              "      <td>0.39</td>\n",
              "      <td>N</td>\n",
              "      <td>VIIRS</td>\n",
              "      <td>n</td>\n",
              "      <td>1</td>\n",
              "      <td>287.1</td>\n",
              "      <td>12.5</td>\n",
              "      <td>0</td>\n",
              "      <td>2012-01-20 12:37:00</td>\n",
              "      <td>2012-01-20 12:40:00</td>\n",
              "    </tr>\n",
              "    <tr>\n",
              "      <th>2</th>\n",
              "      <td>41.0</td>\n",
              "      <td>2.0</td>\n",
              "      <td>308.9</td>\n",
              "      <td>0.35</td>\n",
              "      <td>0.56</td>\n",
              "      <td>N</td>\n",
              "      <td>VIIRS</td>\n",
              "      <td>n</td>\n",
              "      <td>1</td>\n",
              "      <td>270.8</td>\n",
              "      <td>1.1</td>\n",
              "      <td>2</td>\n",
              "      <td>2012-01-21 02:35:00</td>\n",
              "      <td>2012-01-21 02:40:00</td>\n",
              "    </tr>\n",
              "    <tr>\n",
              "      <th>3</th>\n",
              "      <td>40.0</td>\n",
              "      <td>-4.0</td>\n",
              "      <td>299.1</td>\n",
              "      <td>0.41</td>\n",
              "      <td>0.45</td>\n",
              "      <td>N</td>\n",
              "      <td>VIIRS</td>\n",
              "      <td>n</td>\n",
              "      <td>1</td>\n",
              "      <td>273.6</td>\n",
              "      <td>0.9</td>\n",
              "      <td>2</td>\n",
              "      <td>2012-01-21 02:36:00</td>\n",
              "      <td>2012-01-21 02:40:00</td>\n",
              "    </tr>\n",
              "    <tr>\n",
              "      <th>4</th>\n",
              "      <td>40.0</td>\n",
              "      <td>-3.0</td>\n",
              "      <td>297.8</td>\n",
              "      <td>0.41</td>\n",
              "      <td>0.45</td>\n",
              "      <td>N</td>\n",
              "      <td>VIIRS</td>\n",
              "      <td>n</td>\n",
              "      <td>1</td>\n",
              "      <td>272.4</td>\n",
              "      <td>0.8</td>\n",
              "      <td>2</td>\n",
              "      <td>2012-01-21 02:36:00</td>\n",
              "      <td>2012-01-21 02:40:00</td>\n",
              "    </tr>\n",
              "  </tbody>\n",
              "</table>\n",
              "</div>"
            ],
            "text/plain": [
              "   latitude  longitude  ...       acq_date_time  acq_date_time_redon\n",
              "0      38.0       -5.0  ... 2012-01-20 02:55:00  2012-01-20 03:00:00\n",
              "1      43.0       -0.0  ... 2012-01-20 12:37:00  2012-01-20 12:40:00\n",
              "2      41.0        2.0  ... 2012-01-21 02:35:00  2012-01-21 02:40:00\n",
              "3      40.0       -4.0  ... 2012-01-21 02:36:00  2012-01-21 02:40:00\n",
              "4      40.0       -3.0  ... 2012-01-21 02:36:00  2012-01-21 02:40:00\n",
              "\n",
              "[5 rows x 14 columns]"
            ]
          },
          "metadata": {
            "tags": []
          },
          "execution_count": 24
        }
      ]
    },
    {
      "cell_type": "code",
      "metadata": {
        "id": "dHVv8E6KlnYT",
        "colab_type": "code",
        "colab": {}
      },
      "source": [
        "#Unimos los dos dataframes para crear un dataframe único para poder incorporar al modelo de RandomForest\n",
        "#Esto es solo una prueba. La idea es unir los dataframes de histórico de incendios y climatológicos\n",
        "df_hist.merge(df_pesur,left_on=['latitude','longitude','acq_date_time_redon'],right_on=['Latitud','Longitud','Fecha'],validate='m:1')"
      ],
      "execution_count": 0,
      "outputs": []
    },
    {
      "cell_type": "markdown",
      "metadata": {
        "id": "1T1scVuMf2Rk",
        "colab_type": "text"
      },
      "source": [
        "##Random Forests"
      ]
    }
  ]
}